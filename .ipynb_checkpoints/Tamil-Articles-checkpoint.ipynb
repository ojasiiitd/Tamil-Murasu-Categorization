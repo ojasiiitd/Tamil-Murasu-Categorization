{
 "cells": [
  {
   "cell_type": "code",
   "execution_count": 2,
   "id": "28569707-85c8-404b-a338-67f0845731fa",
   "metadata": {},
   "outputs": [],
   "source": [
    "import numpy as np\n",
    "import pandas as pd\n",
    "import matplotlib.pyplot as plt\n",
    "from matplotlib import font_manager as fm\n",
    "from collections import Counter\n",
    "\n",
    "import re\n",
    "from tamil import utf8\n",
    "from indicnlp import common\n",
    "from indicnlp import loader\n",
    "from indicnlp.tokenize import indic_tokenize\n",
    "from indicnlp.transliterate.unicode_transliterate import ItransTransliterator\n",
    "\n",
    "# Export the path to the Indic NLP Resources directory programmatically\n",
    "INDIC_NLP_RESOURCES=r\"./indic_nlp_resources/\"\n",
    "common.set_resources_path(INDIC_NLP_RESOURCES)\n",
    "\n",
    "# Initialize the Indic NLP library\n",
    "loader.load()"
   ]
  },
  {
   "cell_type": "markdown",
   "id": "7948c7f3-bbda-41d9-a033-2560219678de",
   "metadata": {},
   "source": [
    "# Exploring the Data"
   ]
  },
  {
   "cell_type": "code",
   "execution_count": 29,
   "id": "5052ff0f-30b9-4afd-8e23-8e10b32bb82c",
   "metadata": {},
   "outputs": [
    {
     "data": {
      "text/html": [
       "<div>\n",
       "<style scoped>\n",
       "    .dataframe tbody tr th:only-of-type {\n",
       "        vertical-align: middle;\n",
       "    }\n",
       "\n",
       "    .dataframe tbody tr th {\n",
       "        vertical-align: top;\n",
       "    }\n",
       "\n",
       "    .dataframe thead th {\n",
       "        text-align: right;\n",
       "    }\n",
       "</style>\n",
       "<table border=\"1\" class=\"dataframe\">\n",
       "  <thead>\n",
       "    <tr style=\"text-align: right;\">\n",
       "      <th></th>\n",
       "      <th>news_id</th>\n",
       "      <th>news_date</th>\n",
       "      <th>news_category</th>\n",
       "      <th>news_title</th>\n",
       "      <th>news_article</th>\n",
       "    </tr>\n",
       "  </thead>\n",
       "  <tbody>\n",
       "    <tr>\n",
       "      <th>0</th>\n",
       "      <td>6</td>\n",
       "      <td>1/6/2011 2:45:49 PM</td>\n",
       "      <td>மர்மம்</td>\n",
       "      <td>தூக்கில் தொங்கும் சேவல்கள் திருடர்களை காவு வாங...</td>\n",
       "      <td>நாலு ஆள் உயரம் , முறுக்கு மீசை , கையில் வீச்சர...</td>\n",
       "    </tr>\n",
       "    <tr>\n",
       "      <th>1</th>\n",
       "      <td>9</td>\n",
       "      <td>1/6/2011 2:56:51 PM</td>\n",
       "      <td>மர்மம்</td>\n",
       "      <td>பவுர்ணமி ஜாமத்தில் மாயமான கர்ப்பிணி</td>\n",
       "      <td>அமானுஷ்யமான சம்பவங்கள் நம்மை சுற்றி ஆங்காங்கே ...</td>\n",
       "    </tr>\n",
       "    <tr>\n",
       "      <th>2</th>\n",
       "      <td>10</td>\n",
       "      <td>1/6/2011 3:02:00 PM</td>\n",
       "      <td>இந்தியா</td>\n",
       "      <td>காமன்வெல்த் ஊழல் : சுரேஷ் கல்மாடியிடம் 102 கேள...</td>\n",
       "      <td>காமன்வெல்த் போட்டி ஏற்பாட்டில் நடைபெற்ற முறைகே...</td>\n",
       "    </tr>\n",
       "    <tr>\n",
       "      <th>3</th>\n",
       "      <td>11</td>\n",
       "      <td>1/6/2011 3:08:15 PM</td>\n",
       "      <td>மர்மம்</td>\n",
       "      <td>மச்சுபிச்சு மலை ரகசியம்</td>\n",
       "      <td>தென்அமெரிக்க நாடான பெருவில் காடுகள் பயங்கரமானவ...</td>\n",
       "    </tr>\n",
       "    <tr>\n",
       "      <th>4</th>\n",
       "      <td>12</td>\n",
       "      <td>1/6/2011 3:09:20 PM</td>\n",
       "      <td>மர்மம்</td>\n",
       "      <td>ரத்த பலி வாங்கும் விபரீத ஆவி !</td>\n",
       "      <td>கடந்த 18ம் தேதி சாயங்காலம் . . . அடைமழையை கிழி...</td>\n",
       "    </tr>\n",
       "  </tbody>\n",
       "</table>\n",
       "</div>"
      ],
      "text/plain": [
       "   news_id            news_date news_category  \\\n",
       "0        6  1/6/2011 2:45:49 PM        மர்மம்   \n",
       "1        9  1/6/2011 2:56:51 PM        மர்மம்   \n",
       "2       10  1/6/2011 3:02:00 PM       இந்தியா   \n",
       "3       11  1/6/2011 3:08:15 PM        மர்மம்   \n",
       "4       12  1/6/2011 3:09:20 PM        மர்மம்   \n",
       "\n",
       "                                          news_title  \\\n",
       "0  தூக்கில் தொங்கும் சேவல்கள் திருடர்களை காவு வாங...   \n",
       "1                பவுர்ணமி ஜாமத்தில் மாயமான கர்ப்பிணி   \n",
       "2  காமன்வெல்த் ஊழல் : சுரேஷ் கல்மாடியிடம் 102 கேள...   \n",
       "3                            மச்சுபிச்சு மலை ரகசியம்   \n",
       "4                     ரத்த பலி வாங்கும் விபரீத ஆவி !   \n",
       "\n",
       "                                        news_article  \n",
       "0  நாலு ஆள் உயரம் , முறுக்கு மீசை , கையில் வீச்சர...  \n",
       "1  அமானுஷ்யமான சம்பவங்கள் நம்மை சுற்றி ஆங்காங்கே ...  \n",
       "2  காமன்வெல்த் போட்டி ஏற்பாட்டில் நடைபெற்ற முறைகே...  \n",
       "3  தென்அமெரிக்க நாடான பெருவில் காடுகள் பயங்கரமானவ...  \n",
       "4  கடந்த 18ம் தேதி சாயங்காலம் . . . அடைமழையை கிழி...  "
      ]
     },
     "execution_count": 29,
     "metadata": {},
     "output_type": "execute_result"
    }
   ],
   "source": [
    "df_tamil_eda = pd.read_csv(\"./tamilmurasu_data/tamil_news_cleaned.csv\", encoding='utf-8')\n",
    "df_tamil_eda.head()"
   ]
  },
  {
   "cell_type": "code",
   "execution_count": 42,
   "id": "2a517b12-4b01-4706-b770-050d5830e799",
   "metadata": {
    "scrolled": true
   },
   "outputs": [
    {
     "data": {
      "text/html": [
       "<div>\n",
       "<style scoped>\n",
       "    .dataframe tbody tr th:only-of-type {\n",
       "        vertical-align: middle;\n",
       "    }\n",
       "\n",
       "    .dataframe tbody tr th {\n",
       "        vertical-align: top;\n",
       "    }\n",
       "\n",
       "    .dataframe thead th {\n",
       "        text-align: right;\n",
       "    }\n",
       "</style>\n",
       "<table border=\"1\" class=\"dataframe\">\n",
       "  <thead>\n",
       "    <tr style=\"text-align: right;\">\n",
       "      <th></th>\n",
       "      <th>news_category</th>\n",
       "      <th>Count</th>\n",
       "      <th>Translation</th>\n",
       "    </tr>\n",
       "  </thead>\n",
       "  <tbody>\n",
       "    <tr>\n",
       "      <th>0</th>\n",
       "      <td>ஆன்மீகம்</td>\n",
       "      <td>406</td>\n",
       "      <td>Spirituality</td>\n",
       "    </tr>\n",
       "    <tr>\n",
       "      <th>1</th>\n",
       "      <td>இந்தியா</td>\n",
       "      <td>16935</td>\n",
       "      <td>India</td>\n",
       "    </tr>\n",
       "    <tr>\n",
       "      <th>2</th>\n",
       "      <td>உலகம்</td>\n",
       "      <td>7477</td>\n",
       "      <td>World</td>\n",
       "    </tr>\n",
       "    <tr>\n",
       "      <th>3</th>\n",
       "      <td>கல்வி</td>\n",
       "      <td>240</td>\n",
       "      <td>Education</td>\n",
       "    </tr>\n",
       "    <tr>\n",
       "      <th>4</th>\n",
       "      <td>குற்றம்</td>\n",
       "      <td>16290</td>\n",
       "      <td>Crime</td>\n",
       "    </tr>\n",
       "    <tr>\n",
       "      <th>5</th>\n",
       "      <td>சினிமா(ரீல்மா)</td>\n",
       "      <td>9248</td>\n",
       "      <td>Cinema</td>\n",
       "    </tr>\n",
       "    <tr>\n",
       "      <th>6</th>\n",
       "      <td>தமிழகம்</td>\n",
       "      <td>53333</td>\n",
       "      <td>Tamil Nadu</td>\n",
       "    </tr>\n",
       "    <tr>\n",
       "      <th>7</th>\n",
       "      <td>தலையங்கம்</td>\n",
       "      <td>1535</td>\n",
       "      <td>Editorial</td>\n",
       "    </tr>\n",
       "    <tr>\n",
       "      <th>8</th>\n",
       "      <td>தொழில்</td>\n",
       "      <td>68</td>\n",
       "      <td>Occupation</td>\n",
       "    </tr>\n",
       "    <tr>\n",
       "      <th>9</th>\n",
       "      <td>மருத்துவம்</td>\n",
       "      <td>544</td>\n",
       "      <td>Medicine</td>\n",
       "    </tr>\n",
       "    <tr>\n",
       "      <th>10</th>\n",
       "      <td>மர்மம்</td>\n",
       "      <td>66</td>\n",
       "      <td>Mystery</td>\n",
       "    </tr>\n",
       "    <tr>\n",
       "      <th>11</th>\n",
       "      <td>மாவட்ட மசாலா</td>\n",
       "      <td>9079</td>\n",
       "      <td>District Masala</td>\n",
       "    </tr>\n",
       "    <tr>\n",
       "      <th>12</th>\n",
       "      <td>விளையாட்டு</td>\n",
       "      <td>8230</td>\n",
       "      <td>Sports</td>\n",
       "    </tr>\n",
       "    <tr>\n",
       "      <th>13</th>\n",
       "      <td>வேலைவாய்ப்பு</td>\n",
       "      <td>1042</td>\n",
       "      <td>Employment</td>\n",
       "    </tr>\n",
       "    <tr>\n",
       "      <th>14</th>\n",
       "      <td>ஸ்டேட் எக்ஸ்பிரஸ்</td>\n",
       "      <td>2253</td>\n",
       "      <td>State Express</td>\n",
       "    </tr>\n",
       "  </tbody>\n",
       "</table>\n",
       "</div>"
      ],
      "text/plain": [
       "        news_category  Count      Translation\n",
       "0            ஆன்மீகம்    406     Spirituality\n",
       "1             இந்தியா  16935            India\n",
       "2               உலகம்   7477            World\n",
       "3               கல்வி    240        Education\n",
       "4             குற்றம்  16290            Crime\n",
       "5      சினிமா(ரீல்மா)   9248           Cinema\n",
       "6             தமிழகம்  53333       Tamil Nadu\n",
       "7           தலையங்கம்   1535        Editorial\n",
       "8              தொழில்     68       Occupation\n",
       "9          மருத்துவம்    544         Medicine\n",
       "10             மர்மம்     66          Mystery\n",
       "11       மாவட்ட மசாலா   9079  District Masala\n",
       "12         விளையாட்டு   8230           Sports\n",
       "13       வேலைவாய்ப்பு   1042       Employment\n",
       "14  ஸ்டேட் எக்ஸ்பிரஸ்   2253    State Express"
      ]
     },
     "execution_count": 42,
     "metadata": {},
     "output_type": "execute_result"
    }
   ],
   "source": [
    "import seaborn as sns\n",
    "import pandasql as ps\n",
    "\n",
    "categories_df = ps.sqldf(\"select news_category , count(news_category) as Count from df_tamil_eda group by news_category\")\n",
    "categories_df['Translation'] = ['Spirituality' , 'India' , 'World' , 'Education' , 'Crime' , 'Cinema' , 'Tamil Nadu' , 'Editorial' , 'Occupation' ,\n",
    "                                'Medicine' , 'Mystery' , 'District Masala' , 'Sports' , 'Employment' , 'State Express']\n",
    "categories_df"
   ]
  },
  {
   "cell_type": "code",
   "execution_count": 43,
   "id": "f5f5883a-914b-4411-855b-626bed6234dd",
   "metadata": {},
   "outputs": [
    {
     "data": {
      "text/plain": [
       "Text(0.5, 1.0, 'Category-wise analysis')"
      ]
     },
     "execution_count": 43,
     "metadata": {},
     "output_type": "execute_result"
    },
    {
     "data": {
      "image/png": "[encoded data removed]",
      "text/plain": [
       "<Figure size 1500x500 with 1 Axes>"
      ]
     },
     "metadata": {},
     "output_type": "display_data"
    }
   ],
   "source": [
    "plot = categories_df.plot.bar(x='Translation', y='Count', figsize=(15, 5))\n",
    "plot.set_xlabel('News Category')\n",
    "plot.set_ylabel('Count')\n",
    "plot.set_title('Category-wise analysis')"
   ]
  },
  {
   "cell_type": "code",
   "execution_count": 60,
   "id": "f0baab71-87b7-44ec-b4ac-d6b987fe0d9e",
   "metadata": {},
   "outputs": [
    {
     "data": {
      "image/png": "[encoded data removed]",
      "text/plain": [
       "<Figure size 600x600 with 1 Axes>"
      ]
     },
     "metadata": {},
     "output_type": "display_data"
    }
   ],
   "source": [
    "labels = categories_df['Translation']\n",
    "sizes = categories_df['Count']\n",
    "# explode = (0, 0.1, 0, 0)  # Highlight the second slice (Category B)\n",
    "\n",
    "# Create a pie chart\n",
    "plt.figure(figsize=(6, 6))  # Optional: Set the figure size\n",
    "plt.pie(sizes , labels=labels)\n",
    "\n",
    "plt.title('News Categories Pie Chart')\n",
    "\n",
    "plt.legend(labels, loc=\"center left\", bbox_to_anchor=(1.2, 0.5))\n",
    "\n",
    "plt.show()\n"
   ]
  },
  {
   "cell_type": "markdown",
   "id": "6108e972-3ff0-440c-99e4-088e006eeb32",
   "metadata": {},
   "source": [
    "# Working On the Model ..."
   ]
  },
  {
   "cell_type": "markdown",
   "id": "fc34a07f-798e-4228-a40b-eee1842df07b",
   "metadata": {},
   "source": [
    "## Preprocessing used"
   ]
  },
  {
   "cell_type": "code",
   "execution_count": 3,
   "id": "ff96892c-724f-474c-97ac-668f05f9a9f0",
   "metadata": {},
   "outputs": [],
   "source": [
    "def preprocess_tamil_text(corpus):\n",
    "    # look at morphing tamil words for a better run\n",
    "    \n",
    "    # https://gist.github.com/arulrajnet/e82a5a331f78a5cc9b6d372df13a919c\n",
    "    # removing stop words from the articles\n",
    "    stop_words_tamil = [u\"அங்கு\",u\"அங்கே\",u\"அடுத்த\",u\"அதற்கு\",u\"அதனால்\",u\"அதன்\",u\"அதிக\",u\"அதில்\",u\"அது\",u\"அதே\",u\"அதை\",u\"அந்த\",u\"அந்தக்\",u\"அந்தப்\",u\"அல்லது\",u\"அவரது\",u\"அவர்\",u\"அவர்கள்\",u\"அவள்\",u\"அவன்\",u\"அவை\",u\"அன்று\",u\"ஆகிய\",u\"ஆகியோர்\",u\"ஆகும்\",u\"ஆனால்\",u\"இங்கு\",u\"இங்கே\",u\"இடத்தில்\",u\"இடம்\",u\"இதற்கு\",u\"இதனால்\",u\"இதனை\",u\"இதன்\",u\"இதில்\",u\"இது\",u\"இதை\",u\"இந்த\",u\"இந்தக்\",u\"இந்தத்\",u\"இந்தப்\",u\"இப்போது\",u\"இரு\",u\"இருக்கும்\",u\"இருந்த\",u\"இருந்தது\",u\"இருந்து\",u\"இல்லை\",u\"இவர்\",u\"இவை\",u\"இன்னும்\",u\"உள்ள\",u\"உள்ளது\",u\"உள்ளன\",u\"உன்\",u\"எந்த\",u\"எல்லாம்\",u\"என\",u\"எனக்\",u\"எனக்கு\",u\"எனப்படும்\",u\"எனவும்\",u\"எனவே\",u\"எனினும்\",u\"எனும்\",u\"என்\",u\"என்பது\",u\"என்பதை\",u\"என்ற\",u\"என்று\",u\"என்றும்\",u\"என்ன\",u\"என்னும்\",u\"ஏன்\",u\"ஒரு\",u\"ஒரே\",u\"ஓர்\",u\"கொண்ட\",u\"கொண்டு\",u\"கொள்ள\",u\"சற்று\",u\"சில\",u\"சிறு\",u\"சேர்ந்த\",u\"தவிர\",u\"தனது\",u\"தன்\",u\"தான்\",u\"நாம்\",u\"நான்\",u\"நீ\",u\"பல\",u\"பலரும்\",u\"பல்வேறு\",u\"பற்றி\",u\"பற்றிய\",u\"பிற\",u\"பிறகு\",u\"பின்\",u\"பின்னர்\",u\"பெரும்\",u\"பேர்\",u\"போது\",u\"போல\",u\"போல்\",u\"போன்ற\",u\"மட்டுமே\",u\"மட்டும்\",u\"மற்ற\",u\"மற்றும்\",u\"மிக\",u\"மிகவும்\",u\"மீது\",u\"முதல்\",u\"முறை\",u\"மேலும்\",u\"மேல்\",u\"யார்\",u\"வந்த\",u\"வந்து\",u\"வரும்\",u\"வரை\",u\"வரையில்\",u\"விட\",u\"விட்டு\",u\"வேண்டும்\",u\"வேறு\"]\n",
    "    \n",
    "    cleaned_article = ''\n",
    "    \n",
    "    # removing stopwords from corpus\n",
    "    for article_token in indic_tokenize.trivial_tokenize(corpus):\n",
    "        if article_token not in stop_words_tamil:\n",
    "            cleaned_article += (' ' + article_token)\n",
    "    \n",
    "    pattern = r\"[\\xa0.,?!:/@#$%^&*(){}<>-_\\+=\\[\\]\\d’‘\\\"'\\\\]\"  # Matches symbols and digits \\xa0\n",
    "    cleaned_article = re.sub(pattern, '', cleaned_article)\n",
    "    return cleaned_article"
   ]
  },
  {
   "cell_type": "markdown",
   "id": "550f14d1-f8c9-4f7f-a4ab-782ed182ca56",
   "metadata": {},
   "source": [
    "## Reading the Cleaned Data"
   ]
  },
  {
   "cell_type": "code",
   "execution_count": 4,
   "id": "20498ebc-a1a1-44dc-86f7-79583e3355a1",
   "metadata": {},
   "outputs": [
    {
     "data": {
      "text/html": [
       "<div>\n",
       "<style scoped>\n",
       "    .dataframe tbody tr th:only-of-type {\n",
       "        vertical-align: middle;\n",
       "    }\n",
       "\n",
       "    .dataframe tbody tr th {\n",
       "        vertical-align: top;\n",
       "    }\n",
       "\n",
       "    .dataframe thead th {\n",
       "        text-align: right;\n",
       "    }\n",
       "</style>\n",
       "<table border=\"1\" class=\"dataframe\">\n",
       "  <thead>\n",
       "    <tr style=\"text-align: right;\">\n",
       "      <th></th>\n",
       "      <th>news_id</th>\n",
       "      <th>news_date</th>\n",
       "      <th>news_category</th>\n",
       "      <th>news_title</th>\n",
       "      <th>news_article</th>\n",
       "    </tr>\n",
       "  </thead>\n",
       "  <tbody>\n",
       "    <tr>\n",
       "      <th>19243</th>\n",
       "      <td>19543</td>\n",
       "      <td>1/10/2012 2:02:08 PM</td>\n",
       "      <td>தமிழகம்</td>\n",
       "      <td>புழலில் சிறுவர் கால்பந்தாட்ட போட்டி சென்னை அணி...</td>\n",
       "      <td>புழல் : புழல் சிறுவர் கால்பந்தாட்ட பயிற்சி பள்...</td>\n",
       "    </tr>\n",
       "    <tr>\n",
       "      <th>22010</th>\n",
       "      <td>22345</td>\n",
       "      <td>3/2/2012 2:53:27 PM</td>\n",
       "      <td>தமிழகம்</td>\n",
       "      <td>தண்டையார்பேட்டையில் ஸ்டாலின் பிறந்த நாள் விழா ...</td>\n",
       "      <td>தண்டையார்பேட்டை : திமுக பொருளாளர் மு . க . ஸ்ட...</td>\n",
       "    </tr>\n",
       "    <tr>\n",
       "      <th>7918</th>\n",
       "      <td>8064</td>\n",
       "      <td>6/6/2011 11:11:35 AM</td>\n",
       "      <td>இந்தியா</td>\n",
       "      <td>திறமை ஊழியர் பற்றாக்குறையால் இந்திய வளர்ச்சி த...</td>\n",
       "      <td>புதுடெல்லி : திறமையான ஊழியர்களுக்கு பற்றாக்குற...</td>\n",
       "    </tr>\n",
       "    <tr>\n",
       "      <th>15698</th>\n",
       "      <td>15911</td>\n",
       "      <td>11/5/2011 12:34:10 PM</td>\n",
       "      <td>மாவட்ட மசாலா</td>\n",
       "      <td>பறவை , விலங்குகளை வாங்க கோவை பூங்காவுக்கு அனும...</td>\n",
       "      <td>கோவை : கோவை வஉசி உயிரியல் பூங்கா , மத்திய வன உ...</td>\n",
       "    </tr>\n",
       "    <tr>\n",
       "      <th>1752</th>\n",
       "      <td>1814</td>\n",
       "      <td>2/15/2011 3:09:25 PM</td>\n",
       "      <td>உலகம்</td>\n",
       "      <td>தாய்ப்பால் கொடுப்பது குழந்தை வளர்ச்சிக்கு நல்ல...</td>\n",
       "      <td>லண்டன் : பிறந்த குழந்தைக்கு 6 மாதம் தாய்ப்பால்...</td>\n",
       "    </tr>\n",
       "  </tbody>\n",
       "</table>\n",
       "</div>"
      ],
      "text/plain": [
       "       news_id              news_date news_category  \\\n",
       "19243    19543   1/10/2012 2:02:08 PM       தமிழகம்   \n",
       "22010    22345    3/2/2012 2:53:27 PM       தமிழகம்   \n",
       "7918      8064   6/6/2011 11:11:35 AM       இந்தியா   \n",
       "15698    15911  11/5/2011 12:34:10 PM  மாவட்ட மசாலா   \n",
       "1752      1814   2/15/2011 3:09:25 PM         உலகம்   \n",
       "\n",
       "                                              news_title  \\\n",
       "19243  புழலில் சிறுவர் கால்பந்தாட்ட போட்டி சென்னை அணி...   \n",
       "22010  தண்டையார்பேட்டையில் ஸ்டாலின் பிறந்த நாள் விழா ...   \n",
       "7918   திறமை ஊழியர் பற்றாக்குறையால் இந்திய வளர்ச்சி த...   \n",
       "15698  பறவை , விலங்குகளை வாங்க கோவை பூங்காவுக்கு அனும...   \n",
       "1752   தாய்ப்பால் கொடுப்பது குழந்தை வளர்ச்சிக்கு நல்ல...   \n",
       "\n",
       "                                            news_article  \n",
       "19243  புழல் : புழல் சிறுவர் கால்பந்தாட்ட பயிற்சி பள்...  \n",
       "22010  தண்டையார்பேட்டை : திமுக பொருளாளர் மு . க . ஸ்ட...  \n",
       "7918   புதுடெல்லி : திறமையான ஊழியர்களுக்கு பற்றாக்குற...  \n",
       "15698  கோவை : கோவை வஉசி உயிரியல் பூங்கா , மத்திய வன உ...  \n",
       "1752   லண்டன் : பிறந்த குழந்தைக்கு 6 மாதம் தாய்ப்பால்...  "
      ]
     },
     "execution_count": 4,
     "metadata": {},
     "output_type": "execute_result"
    }
   ],
   "source": [
    "df_tamil = pd.read_csv(\"./tamilmurasu_data/tamil_news_cleaned.csv\", encoding='utf-8')\n",
    "df_tamil = df_tamil[:30000] \n",
    "df_tamil.sample(5)"
   ]
  },
  {
   "cell_type": "markdown",
   "id": "67bc5849-1a2c-4557-a0a5-7660c47f39a6",
   "metadata": {},
   "source": [
    "## Making all words/sentences lists"
   ]
  },
  {
   "cell_type": "code",
   "execution_count": 5,
   "id": "79b77d2f-b913-4dbe-8601-e1d721e84cb8",
   "metadata": {},
   "outputs": [],
   "source": [
    "# storing as\n",
    "# [ [article1] , [article2]  ... ]\n",
    "# and removing unwanted symbols/digits as well \n",
    "\n",
    "articles_sentences_combined = []\n",
    "for i in range(len(df_tamil)):\n",
    "    pattern = r\"[\\xa0.,?!:/@#$%^&*(){}<>-_\\+=\\[\\]\\d’‘\\\"'\\\\]\"  # Matches symbols and digits \\xa0\n",
    "    cur_article = re.sub(pattern, '', df_tamil['news_article'][i])\n",
    "    articles_sentences_combined.append(cur_article)\n",
    "\n",
    "#     if i == 1000:\n",
    "#         break\n",
    "\n",
    "# print(df_tamil['news_article'][823][200:])\n",
    "# re.sub(pattern, '', df_tamil['news_article'][823][200:])"
   ]
  },
  {
   "cell_type": "code",
   "execution_count": 6,
   "id": "77049e1e-408f-440e-a8ee-319affc83d73",
   "metadata": {},
   "outputs": [
    {
     "name": "stdout",
     "output_type": "stream",
     "text": [
      "திண்டுக்கல்  ஆத்தூர் தொகுதி தேமுதிக வேட்பாளர் பாலசுப்பிரமணி நேற்று வேட்புமனு தாக்கல் செய்ய திண்டுக்கல் கலெக்டர் ஆபீசுக்கு வந்தார்  அவரிடம் உச்சகட்ட பரபரப்பு  அதிமுக மாவட்ட செயலாளர் நத்தம் விசுவநாதன்  மாவட்ட அவைத்தலைவர் சீனிவாசனும் உடன் வந்தனர்  வாட்ச்சை திருப்பி திருப்பி பார்த்துக் கொண்டே தேர்தல் அதிகாரி முருகவேலின் அறைக்குள் ஓடினார் பாலசுப்பிரமணி  வாங்கிப் பார்த்த அதிகாரிக்கு அதிர்ச்சி  என்னங்க   வெறும் படிவத்தை கொடுக்கறீங்க  நிரப்பவில்லையா   என்றார்  ஒரு மணி வரைதான் நல்ல நேரம்னாங்க  மொதல்ல வாங்கிடுங்க  அப்புறம் நிரப்புறேன் என்றார் பாலசுப்பிரமணி  நிரப்பாத படிவத்தை வாங்க முடியாது கறாராக கூறிவிட்டார் அதிகாரி  வாசல் பகுதியில் அறைக்கு சென்றனர்  பூர்த்தி செய்ய மணி நேரம் ஆனது  தாக்கல் செய்துவிட்டு சென்றார்  http    election  dinakaran  com \n"
     ]
    }
   ],
   "source": [
    "print(articles_sentences_combined[3944])"
   ]
  },
  {
   "cell_type": "code",
   "execution_count": 7,
   "id": "5ea108d0-8641-476f-8408-41c93c872912",
   "metadata": {},
   "outputs": [
    {
     "name": "stdout",
     "output_type": "stream",
     "text": [
      "Vocabulary Length 237334\n"
     ]
    }
   ],
   "source": [
    "# storing vocabulary by removing repeated words\n",
    "\n",
    "tamil_repeating_vocab = []\n",
    "for i,cur_article in enumerate(articles_sentences_combined):\n",
    "    cur_words = cur_article.split()\n",
    "    tamil_repeating_vocab.extend(cur_words)\n",
    "\n",
    "tamil_vocab = list(set(tamil_repeating_vocab))\n",
    "\n",
    "print(\"Vocabulary Length\" , len(tamil_vocab))"
   ]
  },
  {
   "cell_type": "markdown",
   "id": "cfe577fb-c66d-4c35-be3c-a339b3e84427",
   "metadata": {},
   "source": [
    "# Converting data into vectors using different methods"
   ]
  },
  {
   "cell_type": "markdown",
   "id": "c64c1f3a-286f-40ae-bce1-b1826004dd4f",
   "metadata": {},
   "source": [
    "## using CountVectorizer"
   ]
  },
  {
   "cell_type": "code",
   "execution_count": 8,
   "id": "ff187576-dbae-47b1-877a-876e571b072e",
   "metadata": {},
   "outputs": [],
   "source": [
    "from sklearn.feature_extraction.text import CountVectorizer\n",
    "\n",
    "# trying sklearn countvectorizer on tamil dataset\n",
    "bag_tamil_words = CountVectorizer()\n",
    "tamil_count_vecs = bag_tamil_words.fit_transform(articles_sentences_combined).toarray()"
   ]
  },
  {
   "cell_type": "code",
   "execution_count": 9,
   "id": "4f249a47-01c5-4223-bbd2-735f0c2404d2",
   "metadata": {},
   "outputs": [
    {
     "name": "stdout",
     "output_type": "stream",
     "text": [
      "['aaaoe' 'ab' 'aba' ... 'ஹவர' 'ஹஷ' 'ஹஸ']\n"
     ]
    },
    {
     "data": {
      "text/plain": [
       "30000"
      ]
     },
     "execution_count": 9,
     "metadata": {},
     "output_type": "execute_result"
    }
   ],
   "source": [
    "print(bag_tamil_words.get_feature_names_out())\n",
    "# print(sum(list(tamil_count_vecs[223])))\n",
    "len(tamil_count_vecs)"
   ]
  },
  {
   "cell_type": "markdown",
   "id": "30c0dac4-3110-468f-94ce-856bf91ee07f",
   "metadata": {},
   "source": [
    "## using TF-IDF"
   ]
  },
  {
   "cell_type": "code",
   "execution_count": 10,
   "id": "7fc6cb43-7178-496b-930a-63b57afa5e6d",
   "metadata": {},
   "outputs": [],
   "source": [
    "from sklearn.feature_extraction.text import TfidfVectorizer\n",
    "\n",
    "# trying sklearn TfidfVectorizer on tamil dataset\n",
    "tfidf_tamil_words = TfidfVectorizer()\n",
    "tamil_tfidf_vecs = tfidf_tamil_words.fit_transform(articles_sentences_combined).toarray()"
   ]
  },
  {
   "cell_type": "code",
   "execution_count": 11,
   "id": "20f158d5-b4dd-4875-a265-57c4aad49291",
   "metadata": {},
   "outputs": [
    {
     "name": "stdout",
     "output_type": "stream",
     "text": [
      "['aaaoe' 'ab' 'aba' ... 'ஹவர' 'ஹஷ' 'ஹஸ']\n",
      "7500\n",
      "4.208887590413812\n"
     ]
    },
    {
     "data": {
      "text/plain": [
       "array([0., 0., 0., ..., 0., 0., 0.])"
      ]
     },
     "execution_count": 11,
     "metadata": {},
     "output_type": "execute_result"
    }
   ],
   "source": [
    "print(tfidf_tamil_words.get_feature_names_out())\n",
    "print(len(tfidf_tamil_words.get_feature_names_out()))\n",
    "print(sum(list(tamil_tfidf_vecs[4383])))\n",
    "tamil_tfidf_vecs[4383]"
   ]
  },
  {
   "cell_type": "markdown",
   "id": "8f333998-c331-4de9-9f6f-8b74ca046cec",
   "metadata": {},
   "source": [
    "# Training Models"
   ]
  },
  {
   "cell_type": "code",
   "execution_count": 13,
   "id": "2d0442e0-5b60-46ce-b9de-251d5576e2b2",
   "metadata": {},
   "outputs": [
    {
     "name": "stdout",
     "output_type": "stream",
     "text": [
      "Encoded Categories: [10 10  1 ... 14 14 14]\n",
      "Category Mapping: {'ஆன்மீகம்': 0, 'இந்தியா': 1, 'உலகம்': 2, 'கல்வி': 3, 'குற்றம்': 4, 'சினிமா(ரீல்மா)': 5, 'தமிழகம்': 6, 'தலையங்கம்': 7, 'தொழில்': 8, 'மருத்துவம்': 9, 'மர்மம்': 10, 'மாவட்ட மசாலா': 11, 'விளையாட்டு': 12, 'வேலைவாய்ப்பு': 13, 'ஸ்டேட் எக்ஸ்பிரஸ்': 14}\n"
     ]
    }
   ],
   "source": [
    "# encoding the unique categories\n",
    "\n",
    "from sklearn.preprocessing import LabelEncoder\n",
    "\n",
    "# tamil news categories\n",
    "categories = list(df_tamil['news_category'])\n",
    "\n",
    "# Initialize and fit the LabelEncoder\n",
    "label_encoder = LabelEncoder()\n",
    "target_vectors = label_encoder.fit_transform(categories)\n",
    "\n",
    "print(\"Encoded Categories:\", target_vectors)\n",
    "print(\"Category Mapping:\", dict(zip(label_encoder.classes_, range(len(label_encoder.classes_)))))\n"
   ]
  },
  {
   "cell_type": "markdown",
   "id": "d51606f5-cc29-44b5-be40-54025605c71a",
   "metadata": {},
   "source": [
    "## Splitting into training and testing set"
   ]
  },
  {
   "cell_type": "code",
   "execution_count": 14,
   "id": "d1120008-1624-4427-86d4-33ad25d51fbf",
   "metadata": {},
   "outputs": [],
   "source": [
    "from sklearn.model_selection import train_test_split\n",
    "from random import random\n",
    "\n",
    "# Split data into train/test with CountVectorizer vectors\n",
    "X_train_CountVec, X_test_CountVec, y_train, y_test = train_test_split(tamil_count_vecs, target_vectors, test_size=0.2, random_state=42)\n",
    "\n",
    "# Split data into train/test with TFIDF vectors\n",
    "X_train_TFIDF, X_test_TFIDF, y_train, y_test = train_test_split(tamil_tfidf_vecs, target_vectors, test_size=0.2, random_state=42)"
   ]
  },
  {
   "cell_type": "markdown",
   "id": "5d411498-e70e-45bb-adbc-d226953624eb",
   "metadata": {},
   "source": [
    "## Training Using Only Probabilities of Categories"
   ]
  },
  {
   "cell_type": "code",
   "execution_count": 15,
   "id": "84bdf581-6200-4d9c-b4af-8fa4c8343971",
   "metadata": {},
   "outputs": [
    {
     "name": "stdout",
     "output_type": "stream",
     "text": [
      "Accuracy: 0.155\n",
      "Classification Report:\n",
      "               precision    recall  f1-score   support\n",
      "\n",
      "           0       0.00      0.00      0.00        13\n",
      "           1       0.09      0.10      0.09       475\n",
      "           2       0.09      0.09      0.09       584\n",
      "           3       0.00      0.00      0.00        55\n",
      "           4       0.09      0.08      0.09       574\n",
      "           5       0.08      0.09      0.08       464\n",
      "           6       0.29      0.30      0.29      1807\n",
      "           7       0.03      0.03      0.03       120\n",
      "           8       0.00      0.00      0.00        12\n",
      "           9       0.00      0.00      0.00        17\n",
      "          10       0.00      0.00      0.00        16\n",
      "          11       0.14      0.14      0.14       883\n",
      "          12       0.10      0.09      0.09       524\n",
      "          13       0.01      0.01      0.01        67\n",
      "          14       0.07      0.07      0.07       389\n",
      "\n",
      "    accuracy                           0.15      6000\n",
      "   macro avg       0.07      0.07      0.07      6000\n",
      "weighted avg       0.15      0.15      0.15      6000\n",
      "\n"
     ]
    }
   ],
   "source": [
    "# using only Probabilities from training data without any model\n",
    "\n",
    "from sklearn.model_selection import train_test_split\n",
    "from sklearn.metrics import classification_report, accuracy_score\n",
    "from random import random\n",
    "\n",
    "# using only training data to get probabilities\n",
    "\n",
    "# getting counts for all categories\n",
    "_ , counts = np.unique(y_train, return_counts=True)\n",
    "\n",
    "# calculating probabilities\n",
    "probabilities_train = [x/sum(counts) for x in counts]\n",
    "\n",
    "# getting cumulative freq\n",
    "probabilities_train_cumulative = [ sum(probabilities_train[:i+1]) for i in range(len(probabilities_train)) ]\n",
    "# print(probabilities_train_cumulative)\n",
    "\n",
    "# Predictions based on probabilities\n",
    "y_pred = []\n",
    "for i in range(len(y_test)):\n",
    "    randval = random()\n",
    "    y_pred.append(np.searchsorted(probabilities_train_cumulative, randval))\n",
    "\n",
    "print(\"Accuracy:\", accuracy_score(y_test, y_pred))\n",
    "print(\"Classification Report:\\n\", classification_report(y_test, y_pred))"
   ]
  },
  {
   "cell_type": "markdown",
   "id": "3b613838-aa83-48da-aa2b-7a6920d2ca22",
   "metadata": {},
   "source": [
    "# Applying SMOTE"
   ]
  },
  {
   "cell_type": "code",
   "execution_count": null,
   "id": "7c2338b1-6ae7-41a1-b7d2-0e32ee88b078",
   "metadata": {},
   "outputs": [],
   "source": []
  },
  {
   "cell_type": "markdown",
   "id": "ac93889b-6c56-4f29-a4d6-a52fc4ca869c",
   "metadata": {},
   "source": [
    "# training a LogisticRegression model using TF IDF vecs"
   ]
  },
  {
   "cell_type": "code",
   "execution_count": 16,
   "id": "cc495b08-a815-4eae-a2f1-d60a605d956a",
   "metadata": {
    "scrolled": true
   },
   "outputs": [
    {
     "name": "stdout",
     "output_type": "stream",
     "text": [
      "Accuracy: 0.7316666666666667\n",
      "Classification Report:\n",
      "               precision    recall  f1-score   support\n",
      "\n",
      "           0       1.00      0.15      0.27        13\n",
      "           1       0.62      0.55      0.58       475\n",
      "           2       0.81      0.83      0.82       584\n",
      "           3       1.00      0.60      0.75        55\n",
      "           4       0.60      0.56      0.58       574\n",
      "           5       0.95      0.94      0.94       464\n",
      "           6       0.69      0.85      0.76      1807\n",
      "           7       0.87      0.49      0.63       120\n",
      "           8       1.00      0.42      0.59        12\n",
      "           9       1.00      0.88      0.94        17\n",
      "          10       0.00      0.00      0.00        16\n",
      "          11       0.63      0.55      0.59       883\n",
      "          12       0.96      0.95      0.95       524\n",
      "          13       0.93      0.99      0.96        67\n",
      "          14       0.69      0.50      0.58       389\n",
      "\n",
      "    accuracy                           0.73      6000\n",
      "   macro avg       0.78      0.62      0.66      6000\n",
      "weighted avg       0.73      0.73      0.73      6000\n",
      "\n"
     ]
    },
    {
     "name": "stderr",
     "output_type": "stream",
     "text": [
      "C:\\Users\\Ojasva Saxena\\anaconda3\\Lib\\site-packages\\sklearn\\linear_model\\_logistic.py:458: ConvergenceWarning: lbfgs failed to converge (status=1):\n",
      "STOP: TOTAL NO. of ITERATIONS REACHED LIMIT.\n",
      "\n",
      "Increase the number of iterations (max_iter) or scale the data as shown in:\n",
      "    https://scikit-learn.org/stable/modules/preprocessing.html\n",
      "Please also refer to the documentation for alternative solver options:\n",
      "    https://scikit-learn.org/stable/modules/linear_model.html#logistic-regression\n",
      "  n_iter_i = _check_optimize_result(\n",
      "C:\\Users\\Ojasva Saxena\\anaconda3\\Lib\\site-packages\\sklearn\\metrics\\_classification.py:1344: UndefinedMetricWarning: Precision and F-score are ill-defined and being set to 0.0 in labels with no predicted samples. Use `zero_division` parameter to control this behavior.\n",
      "  _warn_prf(average, modifier, msg_start, len(result))\n",
      "C:\\Users\\Ojasva Saxena\\anaconda3\\Lib\\site-packages\\sklearn\\metrics\\_classification.py:1344: UndefinedMetricWarning: Precision and F-score are ill-defined and being set to 0.0 in labels with no predicted samples. Use `zero_division` parameter to control this behavior.\n",
      "  _warn_prf(average, modifier, msg_start, len(result))\n",
      "C:\\Users\\Ojasva Saxena\\anaconda3\\Lib\\site-packages\\sklearn\\metrics\\_classification.py:1344: UndefinedMetricWarning: Precision and F-score are ill-defined and being set to 0.0 in labels with no predicted samples. Use `zero_division` parameter to control this behavior.\n",
      "  _warn_prf(average, modifier, msg_start, len(result))\n"
     ]
    }
   ],
   "source": [
    "# training a LogisticRegression model using TF IDF vecs\n",
    "from sklearn.linear_model import LogisticRegression\n",
    "\n",
    "# Train a model\n",
    "model2 = LogisticRegression()\n",
    "model2.fit(X_train_TFIDF, y_train)\n",
    "\n",
    "# Evaluate the model\n",
    "y_pred = model2.predict(X_test_TFIDF)\n",
    "print(\"Accuracy:\", accuracy_score(y_test, y_pred))\n",
    "print(\"Classification Report:\\n\", classification_report(y_test, y_pred))"
   ]
  },
  {
   "cell_type": "code",
   "execution_count": null,
   "id": "635c6666-405e-42f1-a878-a99fb998c9d4",
   "metadata": {},
   "outputs": [],
   "source": [
    "from sklearn.svm import SVC  # Support Vector Classifier\n",
    "\n",
    "# Train a model\n",
    "model3 = SVC(kernel='linear', C=1.0, random_state=42)\n",
    "model3.fit(X_train_TFIDF, y_train)\n",
    "\n",
    "# Evaluate the model\n",
    "y_pred = model3.predict(X_test_TFIDF)\n",
    "print(\"Accuracy:\", accuracy_score(y_test, y_pred))\n",
    "print(\"Classification Report:\\n\", classification_report(y_test, y_pred))"
   ]
  },
  {
   "cell_type": "markdown",
   "id": "352998dc-2f39-45f5-bd0b-50ae9cce05fa",
   "metadata": {},
   "source": [
    "# training a LogisticRegression model using CountVectorizer vecs"
   ]
  },
  {
   "cell_type": "code",
   "execution_count": 17,
   "id": "af3ddf9b-6242-4ad3-bd13-4aa30db727fe",
   "metadata": {
    "scrolled": true
   },
   "outputs": [
    {
     "name": "stderr",
     "output_type": "stream",
     "text": [
      "C:\\Users\\Ojasva Saxena\\anaconda3\\Lib\\site-packages\\sklearn\\linear_model\\_logistic.py:458: ConvergenceWarning: lbfgs failed to converge (status=1):\n",
      "STOP: TOTAL NO. of ITERATIONS REACHED LIMIT.\n",
      "\n",
      "Increase the number of iterations (max_iter) or scale the data as shown in:\n",
      "    https://scikit-learn.org/stable/modules/preprocessing.html\n",
      "Please also refer to the documentation for alternative solver options:\n",
      "    https://scikit-learn.org/stable/modules/linear_model.html#logistic-regression\n",
      "  n_iter_i = _check_optimize_result(\n"
     ]
    },
    {
     "name": "stdout",
     "output_type": "stream",
     "text": [
      "Accuracy: 0.744\n",
      "Classification Report:\n",
      "               precision    recall  f1-score   support\n",
      "\n",
      "           0       0.80      0.62      0.70        13\n",
      "           1       0.60      0.53      0.57       475\n",
      "           2       0.81      0.82      0.81       584\n",
      "           3       0.92      0.85      0.89        55\n",
      "           4       0.63      0.54      0.58       574\n",
      "           5       0.94      0.92      0.93       464\n",
      "           6       0.74      0.78      0.76      1807\n",
      "           7       0.79      0.62      0.70       120\n",
      "           8       1.00      0.67      0.80        12\n",
      "           9       0.94      0.88      0.91        17\n",
      "          10       0.89      0.50      0.64        16\n",
      "          11       0.65      0.70      0.67       883\n",
      "          12       0.95      0.95      0.95       524\n",
      "          13       0.97      0.99      0.98        67\n",
      "          14       0.62      0.60      0.61       389\n",
      "\n",
      "    accuracy                           0.74      6000\n",
      "   macro avg       0.82      0.73      0.77      6000\n",
      "weighted avg       0.74      0.74      0.74      6000\n",
      "\n"
     ]
    }
   ],
   "source": [
    "# training a LogisticRegression model using CountVectorizer vecs\n",
    "\n",
    "from sklearn.linear_model import LogisticRegression\n",
    "\n",
    "# Train a model\n",
    "model1 = LogisticRegression()\n",
    "model1.fit(X_train_CountVec, y_train)\n",
    "\n",
    "# Evaluate the model\n",
    "y_pred = model1.predict(X_test_CountVec)\n",
    "print(\"Accuracy:\", accuracy_score(y_test, y_pred))\n",
    "print(\"Classification Report:\\n\", classification_report(y_test, y_pred))"
   ]
  },
  {
   "cell_type": "markdown",
   "id": "8557ae49-be12-4a10-8d50-8e934358a12c",
   "metadata": {},
   "source": [
    "## Saving the better model"
   ]
  },
  {
   "cell_type": "code",
   "execution_count": 62,
   "id": "23bbff05-1f98-4d77-bba6-d6c9f1578c62",
   "metadata": {},
   "outputs": [
    {
     "data": {
      "text/plain": [
       "['logistic_regression_tfidf.pkl']"
      ]
     },
     "execution_count": 62,
     "metadata": {},
     "output_type": "execute_result"
    }
   ],
   "source": [
    "import joblib\n",
    "\n",
    "joblib.dump(model2, \"model2.pkl\") "
   ]
  },
  {
   "cell_type": "markdown",
   "id": "f9dbf4c0-f9cc-48fb-8d5a-5e766fca6121",
   "metadata": {},
   "source": [
    "# Trying out the model "
   ]
  },
  {
   "cell_type": "code",
   "execution_count": 131,
   "id": "70ce4783-1f3b-4568-8c57-776f76dd5b19",
   "metadata": {},
   "outputs": [],
   "source": [
    "# taken from https://www.dinamalar.com/news/tamil-nadu-news/tasmac-federation-warns-dmk-of-protest-if-it-does-not-stop-intimidating-employees-/3782157\n",
    "# latest_news = \"தஞ்சாவூர் : தஞ்சாவூரில், டாஸ்மாக் ஊழியர் சம்மேளனத்தின், மாநில குழு கூட்டம் நேற்று நடந்தது. இதில், பங்கேற்ற அச்சங்கத்தின் மாநில பொதுச்செயலர் திருச்செல்வன் கூறியதாவது: பணி நிரந்தரம், அரசு ஊழியர்களுக்கு இணையான ஊதியம் உள்ளிட்ட கோரிக்கைகளை, 20 ஆண்டுகளாக ஆட்சியாளர்களிடம் வலியுறுத்தி வருகிறோம். ஆனால், அ.தி.மு.க.,வும் நிறைவேற்றவில்லை; ஆளும் தி.மு.க.,வும் பரிசீலனையில் எடுத்துக் கொள்ளவில்லை. இந்த அரசுக்கு, எங்கள் கோரிக்கைகளை பலமுறை கொண்டு சென்றும், நிறைவேற்ற மறுக்கிறது. முதல்வர் சட்டசபை தேர்தலின் போது, தமிழகத்தில், மதுவிலக்கை படிப்படியாக அமல்படுத்துவோம் என, மக்களிடையே வாக்குறுதி அளித்தார். ஆட்சிப் பொறுப்பேற்றதும், 500 டாஸ்மாக் கடைகளை மூடியதை வரவேற்கிறோம். ஆனால், அரசு கடைகளை மூடிவிட்டு, தனியாருக்கு மனமகிழ்மன்றம் என்ற வகையில் உரிமம் வழங்கப்பட்டு வருகிறது. அதாவது, அரசு செய்யும் வியாபாரத்தை தனியாருக்கு மடை மாற்றும் போக்கு நடைபெறுகிறது. கணினி ரசீது முறை அமல்படுத்தப்பட்டு உள்ளதாக, டாஸ்மாக் நிர்வாகம் அறிவித்துள்ளது. இதிலும், பல பிரச்னைகளை ஊழியர்கள் சந்திப்பதால், மன அழுத்தத்துக்கு ஆளாகின்றனர். டாஸ்மாக் நிறுவனத்தில் பணியிட மாற்றம், பணி நியமனத்தில் பல்வேறு முறைகேடுகள் நடக்கின்றன. ஆளுங்கட்சி தலையீடு இருக்கிறது. டாஸ்மாக் கடை ஊழியர்களை ஆளுங்கட்சியினர் மிரட்டி, மாமூல் வசூலிக்கும் போக்கு, அரசுக்கு அவப்பெயரை ஏற்படுத்தும். இவர்கள் மீது தி.மு.க., தலைமை கடும் நடவடிக்கை எடுக்க வேண்டும். இல்லாவிட்டால் ஊழியர்கள் போராட்டத்தில் ஈடுபடுவர். இவ்வாறு அவர் கூறினார்.\"\n",
    "\n",
    "## ------------------------------------------------------ ##\n",
    "\n",
    "# taken from https://tamil.samayam.com/latest-news/international-news/iran-supreme-leader-ali-khamenei-says-about-does-he-plan-to-assassinate-donald-trump/articleshow/115380006.cms?trc_source=TaboolaExploreMore\n",
    "# latest_news = \"அமெரிக்க அதிபர் தேர்தலில் வெற்றி பெற்றுள்ள டொனால்ட் டிரம்பை கொலை செய்ய திட்டமிடவில்லை என ஈரான் உச்சபட்ச தலைவர் அலிகமெனி மறுப்பு தெரிவித்துள்ளார். அமெரிக்க அதிபர் தேர்தலில் முன்னாள் அதிபர் டொனால்ட் டிரம்ப் அபார வெற்றி பெற்றார். அவர் தன்னை எதிர்த்து போட்டியிட்ட துணை அதிபர் கமலா ஹாரிஸை படுதோல்வி அடைய செய்தார். இதையடுத்து டொனால்ட் டிரம்ப் தனது அமைச்சரவையில் உறுப்பினர் சேர்க்கையை தொடங்கிவிட்டார். இதற்கிடையே ஈரானை சேர்ந்த சுலைமான் படுகொலைக்கு டொனால்ட் டிரம்பபை பழிதீர்க்க உள்ள ஈரான் திட்டமிட்டு இருப்பதாக தகவல்கள் வெளியாகின. அதாவது அமெரிக்க அதிபர் பதவியில் டொனால்ட் டிரம்ப் அமருவதற்கு முன்பு அவரை கொலை செய்ய ஈரான் ஸ்கெட்ச் போட்டு இருப்பதாக கூறப்பட்டது. இது பரபரப்பை ஏற்படுத்தியது. இந்த நிலையில் டொனால்ட் டிரம்பை கொல்ல திட்டம் தீட்டவில்லை என ஈரானின் உச்சபட்ச தலைவர் அலிகமெனி, மறுப்பு தெரிவித்துள்ளார். கடந்த செப்டம்பர் மாதம் ஜோ பைடன் அரசு, டொனால்ட் டிரம்ப் மீது ஏதேனும் தாக்குதல் நடத்தப்பட்டால், போருக்கான அழைப்பாக அது பார்க்கப்படும் என ஈரானை எச்சரித்து இருந்தது.\"\n",
    "\n",
    "## ------------------------------------------------------ ##\n",
    "\n",
    "# taken from https://www.artofliving.org/in-ta/meditation\n",
    "# latest_news = \"தியானத்தின் பலன்கள் பல்வேறு வகையானவை. மன சுத்தமே முதன்மையானது. அமைதியான மனம், நல்ல கவனிப்புத் திறன், கருத்துகளில் தெளிவு, தகவல் தொடர்புகளில் மேம்பாடு, திறன்கள் மற்றும் திறமைகள் மலர்தல், அசைக்க முடியாத உள் திடம், ஆற்றுபடுதல், உள்மன ஆற்றலுடன் இணைதல், இளைப்பாறுதல், புத்துணர்வு பெறுதல், நல்லதிர்ஷ்டம் இவையனைத்தும் ஒழுங்கான சீரான தியானத்தின் இயற்கையான விளைவுகள் ஆகும்.\"\n",
    "\n",
    "## ------------------------------------------------------ ##\n",
    "\n",
    "# taken from https://tamil.oneindia.com/news/chennai/police-close-in-on-sambo-senthil-a2-in-armstrong-murder-case-654935.html\n",
    "latest_news = \"சென்னை: ஆம்ஸ்ட்ராங் கொலை வழக்கில் முக்கிய குற்றவாளியாக கருதப்படும் சம்பவம் செந்தில் என்கிற சம்போ செந்திலின் இருப்பிடத்தை போலீசார் நெருங்கி உள்ளதாக தகவல் வெளியாகியுள்ளது. வெளிநாட்டில் தலைமறைவாக இருக்கும் சம்போ செந்திலின் இருப்பிடத்தை நெருங்கியுள்ள போலீசார், அவரை கைது செய்து சென்னைக்கு அழைத்து வர திட்டமிட்டுள்ளதாக கூறப்படுகிறது. பகுஜன் சமாஜ் கட்சியின் மாநில தலைவராக இருந்த ஆம்ஸ்ட்ராங் கடந்த ஜூலை மாதம் 5ஆம் தேதி பெரம்பூர் செம்பியம் பகுதியில் தனது வீட்டிற்கு வெளியே மர்ம நபர்களால் வெட்டி படுகொலை செய்யப்பட்டார். இந்த கொலைச் சம்பவம் நாடு முழுவதும் பெரும் அதிர்வலைகளை ஏற்படுத்தியது. சிக்கிய ரௌடிகள்: இந்த கொலை வழக்கு தொடர்பாக அரசியல் கட்சி பிரமுகர்கள் மற்றும் வழக்கறிஞர்கள் என மொத்தம் 28 பேர் கைது செய்யப்பட்டனர். ஆம்ஸ்ட்ராங் கொலை தொடர்பாக கைது செய்யப்பட்ட திருவேங்கடம் என்பவர் போலீசாரிடம் இருந்து தப்ப முயன்றதால் சுட்டுக் கொல்லப்பட்டார். அதனை தொடர்ந்து தலைமறைவாக இருந்த சீசிங் ராஜா கைது செய்யப்பட்டு அவரும் என்கவுண்டர் செய்யப்பட்டார். ஆம்ஸ்ட்ராங் கொலை வழக்கில் தலைமறைவாக உள்ள சம்போ செந்தில் மற்றும் வழக்கறிஞர் மொட்டை கிருஷ்ணன் ஆகியோரை தொடர்ந்து போலீசார் தேடி வருகின்றனர். ஆம்ஸ்ட்ராங் கொலை வழக்கில் கைது செய்யப்பட்டுள்ள பொன்னை பாலு, ஆற்காடு சுரேஷின் மனைவி பொற்கொடி, தோட்டம் சேகரின் மனைவி மலர்க்கொடி, ஹரிதரன், சதீஷ்குமார், ஹரிஹரன் சிவா, பிரதீப், முன்னாள் பாஜக நிர்வாகி அஞ்சலை, முகிலன், விஜயகுமார் என்ற விஜய், விக்னேஷ் என்ற அப்பு, முன்னாள் காங்கிரஸ் நிர்வாகியும், பிரபல ரௌடி நாகேந்திரன் மகனுமான அஸ்வத்தாமன், ராஜேஷ், செந்தில்குமார் மற்றும் கோபி உள்ளிட்ட 25 பேர் மீது குண்டர் தடுப்புச் சட்டத்தில் வழக்குப்பதிவு செய்யப்பட்டுள்ளது. ஏ1, ஏ2: ஆம்ஸ்ட்ராங் கொலை வழக்கு தொடர்பாக கைது செய்யப்பட்ட 28 பேரும் மீதும் செம்பியம் காவல்துறையினர் குற்றப்பத்திரிக்கை தாக்கல் செய்தனர். 5000 பக்கங்கள் கொண்ட குற்றப் பத்திரிகையை போலீசார் எழும்பூர் நீதிமன்றத்தில் தாக்கல் செய்துள்ளனர். கைது செய்யப்பட்ட 28 நபர்களோடு சேர்த்து தலைமறைவாக உள்ள சம்போ செந்தில் மற்றும் மொட்டை கிருஷ்ணன் ஆகியோர் மீதும் குற்றப்பத்திரிகை தாக்கல் செய்யப்பட்டுள்ளது.\""
   ]
  },
  {
   "cell_type": "code",
   "execution_count": 132,
   "id": "08562c13-3b27-4b87-affc-25917f285a2a",
   "metadata": {},
   "outputs": [
    {
     "data": {
      "text/plain": [
       "<1x13295 sparse matrix of type '<class 'numpy.float64'>'\n",
       "\twith 82 stored elements in Compressed Sparse Row format>"
      ]
     },
     "execution_count": 132,
     "metadata": {},
     "output_type": "execute_result"
    }
   ],
   "source": [
    "latest_news_vector = tfidf_tamil_words.transform([preprocess_tamil_text(latest_news)])\n",
    "latest_news_vector"
   ]
  },
  {
   "cell_type": "code",
   "execution_count": 133,
   "id": "41ea1f5c-cb89-44c7-b3a2-9ab64b95e390",
   "metadata": {},
   "outputs": [],
   "source": [
    "clf = joblib.load(\"model2.pkl\")\n",
    "clf.predict(latest_news_vector)"
   ]
  },
  {
   "cell_type": "code",
   "execution_count": 134,
   "id": "35265237-3cb4-4115-b225-45cea693e9bf",
   "metadata": {
    "scrolled": true
   },
   "outputs": [
    {
     "name": "stdout",
     "output_type": "stream",
     "text": [
      "News Article:\n",
      "சென்னை: ஆம்ஸ்ட்ராங் கொலை வழக்கில் முக்கிய குற்றவாளியாக கருதப்படும் சம்பவம் செந்தில் என்கிற சம்போ செந்திலின் இருப்பிடத்தை போலீசார் நெருங்கி உள்ளதாக தகவல் வெளியாகியுள்ளது. வெளிநாட்டில் தலைமறைவாக இருக்கும் சம்போ செந்திலின் இருப்பிடத்தை நெருங்கியுள்ள போலீசார், அவரை கைது செய்து சென்னைக்கு அழைத்து வர திட்டமிட்டுள்ளதாக கூறப்படுகிறது. பகுஜன் சமாஜ் கட்சியின் மாநில தலைவராக இருந்த ஆம்ஸ்ட்ராங் கடந்த ஜூலை மாதம் 5ஆம் தேதி பெரம்பூர் செம்பியம் பகுதியில் தனது வீட்டிற்கு வெளியே மர்ம நபர்களால் வெட்டி படுகொலை செய்யப்பட்டார். இந்த கொலைச் சம்பவம் நாடு முழுவதும் பெரும் அதிர்வலைகளை ஏற்படுத்தியது. சிக்கிய ரௌடிகள்: இந்த கொலை வழக்கு தொடர்பாக அரசியல் கட்சி பிரமுகர்கள் மற்றும் வழக்கறிஞர்கள் என மொத்தம் 28 பேர் கைது செய்யப்பட்டனர். ஆம்ஸ்ட்ராங் கொலை தொடர்பாக கைது செய்யப்பட்ட திருவேங்கடம் என்பவர் போலீசாரிடம் இருந்து தப்ப முயன்றதால் சுட்டுக் கொல்லப்பட்டார். அதனை தொடர்ந்து தலைமறைவாக இருந்த சீசிங் ராஜா கைது செய்யப்பட்டு அவரும் என்கவுண்டர் செய்யப்பட்டார். ஆம்ஸ்ட்ராங் கொலை வழக்கில் தலைமறைவாக உள்ள சம்போ செந்தில் மற்றும் வழக்கறிஞர் மொட்டை கிருஷ்ணன் ஆகியோரை தொடர்ந்து போலீசார் தேடி வருகின்றனர். ஆம்ஸ்ட்ராங் கொலை வழக்கில் கைது செய்யப்பட்டுள்ள பொன்னை பாலு, ஆற்காடு சுரேஷின் மனைவி பொற்கொடி, தோட்டம் சேகரின் மனைவி மலர்க்கொடி, ஹரிதரன், சதீஷ்குமார், ஹரிஹரன் சிவா, பிரதீப், முன்னாள் பாஜக நிர்வாகி அஞ்சலை, முகிலன், விஜயகுமார் என்ற விஜய், விக்னேஷ் என்ற அப்பு, முன்னாள் காங்கிரஸ் நிர்வாகியும், பிரபல ரௌடி நாகேந்திரன் மகனுமான அஸ்வத்தாமன், ராஜேஷ், செந்தில்குமார் மற்றும் கோபி உள்ளிட்ட 25 பேர் மீது குண்டர் தடுப்புச் சட்டத்தில் வழக்குப்பதிவு செய்யப்பட்டுள்ளது. ஏ1, ஏ2: ஆம்ஸ்ட்ராங் கொலை வழக்கு தொடர்பாக கைது செய்யப்பட்ட 28 பேரும் மீதும் செம்பியம் காவல்துறையினர் குற்றப்பத்திரிக்கை தாக்கல் செய்தனர். 5000 பக்கங்கள் கொண்ட குற்றப் பத்திரிகையை போலீசார் எழும்பூர் நீதிமன்றத்தில் தாக்கல் செய்துள்ளனர். கைது செய்யப்பட்ட 28 நபர்களோடு சேர்த்து தலைமறைவாக உள்ள சம்போ செந்தில் மற்றும் மொட்டை கிருஷ்ணன் ஆகியோர் மீதும் குற்றப்பத்திரிகை தாக்கல் செய்யப்பட்டுள்ளது.\n",
      "\n",
      "Model Prediction\n",
      "[4] i.e. ['குற்றம்']\n"
     ]
    }
   ],
   "source": [
    "print(\"News Article:\")\n",
    "print(latest_news)\n",
    "print()\n",
    "print(\"Model Prediction\")\n",
    "print(prediction , \"i.e.\" , label_encoder.classes_[prediction])"
   ]
  },
  {
   "cell_type": "code",
   "execution_count": null,
   "id": "7014fdca-5192-4b49-a5ad-5429a37af9cc",
   "metadata": {},
   "outputs": [],
   "source": []
  }
 ],
 "metadata": {
  "kernelspec": {
   "display_name": "Python 3 (ipykernel)",
   "language": "python",
   "name": "python3"
  },
  "language_info": {
   "codemirror_mode": {
    "name": "ipython",
    "version": 3
   },
   "file_extension": ".py",
   "mimetype": "text/x-python",
   "name": "python",
   "nbconvert_exporter": "python",
   "pygments_lexer": "ipython3",
   "version": "3.11.7"
  }
 },
 "nbformat": 4,
 "nbformat_minor": 5
}
